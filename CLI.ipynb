{
 "cells": [
  {
   "cell_type": "code",
   "execution_count": null,
   "metadata": {},
   "outputs": [],
   "source": [
    "import argparse\n",
    "import pandas as pd\n",
    "from sklearn.externals import joblib\n",
    "from analysis_engine import perform_analysis  # Assume this function is defined in Notebook 2\n",
    "from report_generation import generate_report  # Assume this function is defined in Notebook 3"
   ]
  },
  {
   "cell_type": "code",
   "execution_count": null,
   "metadata": {},
   "outputs": [],
   "source": [
    "def parse_args():\n",
    "    parser = argparse.ArgumentParser(description=\"AI Employee for Data Analysis and Reporting\")\n",
    "    parser.add_argument('--data_path', type=str, required=True, help='Path to the dataset')\n",
    "    parser.add_argument('--analysis', action='store_true', help='Perform data analysis')\n",
    "    parser.add_argument('--report', action='store_true', help='Generate a report')\n",
    "    return parser.parse_args()"
   ]
  },
  {
   "cell_type": "code",
   "execution_count": null,
   "metadata": {},
   "outputs": [],
   "source": [
    "def main():\n",
    "    args = parse_args()\n",
    "\n",
    "    # Load the dataset\n",
    "    try:\n",
    "        data = pd.read_csv(args.data_path)\n",
    "        print(\"Dataset loaded successfully.\")\n",
    "    except Exception as e:\n",
    "        print(f\"Error loading dataset: {e}\")\n",
    "        return\n",
    "\n",
    "    # Perform analysis if requested\n",
    "    if args.analysis:\n",
    "        print(\"Performing data analysis...\")\n",
    "        analysis_results = perform_analysis(data)\n",
    "        joblib.dump(analysis_results, 'analysis_results.pkl')\n",
    "        print(\"Data analysis completed and saved.\")\n",
    "\n",
    "    # Generate report if requested\n",
    "    if args.report:\n",
    "        print(\"Generating report...\")\n",
    "        try:\n",
    "            analysis_results = joblib.load('analysis_results.pkl')\n",
    "            generate_report(analysis_results)\n",
    "            print(\"Report generated successfully.\")\n",
    "        except Exception as e:\n",
    "            print(f\"Error generating report: {e}\")\n",
    "\n",
    "if __name__ == '__main__':\n",
    "    main()"
   ]
  },
  {
   "cell_type": "code",
   "execution_count": null,
   "metadata": {},
   "outputs": [],
   "source": [
    "python ai_employee_cli.py --data_path your_dataset.csv --analysis --report"
   ]
  }
 ],
 "metadata": {
  "language_info": {
   "name": "python"
  }
 },
 "nbformat": 4,
 "nbformat_minor": 2
}
